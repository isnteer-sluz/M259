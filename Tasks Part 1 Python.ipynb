{
  "cells": [
    {
      "cell_type": "markdown",
      "metadata": {
        "id": "mb_2JYI0R7HJ"
      },
      "source": [
        "# Aufgaben Teil 1\n",
        "\n",
        "Tipp: In der Menuleiste mit \"Edit > Clear all Outputs\" kannst du ein bisschen Übersicht schaffen, wenn viele Daten angezeigt werden."
      ]
    },
    {
      "cell_type": "markdown",
      "metadata": {
        "id": "wzhA_IBbATa7"
      },
      "source": [
        "## Python\n"
      ]
    },
    {
      "cell_type": "markdown",
      "metadata": {
        "id": "aD5Z9v6MBL8Y"
      },
      "source": [
        "### Funktionen und Variablen"
      ]
    },
    {
      "cell_type": "code",
      "execution_count": 1,
      "metadata": {
        "id": "FRLk0_G-7xQ_",
        "outputId": "448459a2-69c1-4ae1-bd7e-b3b1588f6ef5",
        "colab": {
          "base_uri": "https://localhost:8080/"
        }
      },
      "outputs": [
        {
          "output_type": "stream",
          "name": "stdout",
          "text": [
            "15\n",
            "5\n"
          ]
        }
      ],
      "source": [
        "my_var = 5 # do not specify data type. Equivalent in C#: `int my_var = 5;`\n",
        "\n",
        "def my_function(): # Naming: snake_case\n",
        "  i = 10\n",
        "  print(i + my_var) # can use global variable in methods\n",
        "\n",
        "# To end function, go back one indent\n",
        "\n",
        "my_function()\n",
        "print(my_var) # changes to global variable preserved\n",
        "\n",
        "if my_var > 5 and True: # use `and`, `or`, `not` instead of `&&`, `||`, `!`\n",
        "  print('This will always print')"
      ]
    },
    {
      "cell_type": "code",
      "execution_count": null,
      "metadata": {
        "id": "y8UHKHTsCChl"
      },
      "outputs": [],
      "source": [
        "# using my_var from before\n",
        "def my_functionBorken():\n",
        "  my_var = -10 # Cannot change global variable like this, this creates a new variable\n",
        "\n",
        "my_functionBorken()\n",
        "my_var"
      ]
    },
    {
      "cell_type": "code",
      "execution_count": null,
      "metadata": {
        "id": "k1QOGoCfCg_U"
      },
      "outputs": [],
      "source": [
        "# using my_var from before\n",
        "def my_functionWithReturn() -> int: # Define return value\n",
        "  x = -10\n",
        "  return x\n",
        "\n",
        "my_var = my_functionWithReturn()"
      ]
    },
    {
      "cell_type": "markdown",
      "metadata": {
        "id": "fRhEhs02DlCV"
      },
      "source": [
        "### Aufgaben\n",
        "\n",
        "Diese Aufgaben sollen alle ohne Libraries wie pandas gelöst werden. Sie sollen als kleines Warm-Up dienen."
      ]
    },
    {
      "cell_type": "code",
      "execution_count": 2,
      "metadata": {
        "id": "fphLzMhwE9F6"
      },
      "outputs": [],
      "source": [
        "numbers = [7, 13, 63, 67, 54, 35, 68, 99, 98, 97, 100, 42, 55, 12, 67, 86, 45]"
      ]
    },
    {
      "cell_type": "markdown",
      "metadata": {
        "id": "2gmawWDNFubN"
      },
      "source": [
        "1.1. Verwende `%` und `for .. in ..`, um  alle durch 7 teilbare Zahlen in `numbers` auszugeben\n",
        "\n",
        "1.2. Berechne die Summe von `numbers`"
      ]
    },
    {
      "cell_type": "code",
      "execution_count": 6,
      "metadata": {
        "id": "kDetWqn_G8O3",
        "outputId": "afa0a878-fba4-4570-e32a-eabbdce5bcbf",
        "colab": {
          "base_uri": "https://localhost:8080/"
        }
      },
      "outputs": [
        {
          "output_type": "stream",
          "name": "stdout",
          "text": [
            "7\n",
            "63\n",
            "35\n",
            "98\n",
            "42\n",
            "Das Resultat ist: 1008\n"
          ]
        }
      ],
      "source": [
        "# 1.1\n",
        "for number in numbers:\n",
        "    if number % 7 == 0:\n",
        "        print(number)\n",
        "\n",
        "# 1.2\n",
        "resultat = 0\n",
        "\n",
        "for number in numbers:\n",
        "    resultat += number\n",
        "\n",
        "print(f\"Das Resultat ist: {resultat}\")\n"
      ]
    },
    {
      "cell_type": "markdown",
      "metadata": {
        "id": "wPDc7L2lG7c2"
      },
      "source": [
        "2.1. [Werfe einen Würfel](https://xkcd.com/221/) (digital oder analog). Erstelle eine Funktion `roll_die() -> int`, die immer die geworfene Zahl zurückgibt.\n",
        "\n",
        "2.2. Erstelle eine Funktion, die eine Zahl `i` nimmt, das erste Element von `numbers` durch `i` teilt und diesen Wert zurück gibt."
      ]
    },
    {
      "cell_type": "code",
      "execution_count": 14,
      "metadata": {
        "id": "FPlHzlbWVEDe",
        "outputId": "3560d49a-54fb-470e-f86a-1534ccdff02d",
        "colab": {
          "base_uri": "https://localhost:8080/"
        }
      },
      "outputs": [
        {
          "output_type": "stream",
          "name": "stdout",
          "text": [
            "3\n",
            "2.3333333333333335\n"
          ]
        }
      ],
      "source": [
        "import random\n",
        "\n",
        "def roll_die():\n",
        "    return random.randint(1,6)\n",
        "\n",
        "def divide(i):\n",
        "    return numbers[0] / i\n",
        "\n",
        "\n",
        "print(roll_die())\n",
        "print(divide(3))"
      ]
    }
  ],
  "metadata": {
    "colab": {
      "provenance": [],
      "toc_visible": true
    },
    "kernelspec": {
      "display_name": "Python 3",
      "name": "python3"
    },
    "language_info": {
      "codemirror_mode": {
        "name": "ipython",
        "version": 3
      },
      "file_extension": ".py",
      "mimetype": "text/x-python",
      "name": "python",
      "nbconvert_exporter": "python",
      "pygments_lexer": "ipython3",
      "version": "3.10.11"
    }
  },
  "nbformat": 4,
  "nbformat_minor": 0
}