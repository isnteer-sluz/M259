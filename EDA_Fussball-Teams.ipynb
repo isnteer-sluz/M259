{
  "cells": [
    {
      "cell_type": "markdown",
      "id": "0629a3b4",
      "metadata": {
        "id": "0629a3b4"
      },
      "source": [
        "# Explorative Datenanalyse (EDA) Schritt-für-Schritt"
      ]
    },
    {
      "cell_type": "markdown",
      "id": "9dc0047a",
      "metadata": {
        "id": "9dc0047a"
      },
      "source": [
        "\n",
        "Dieses Jupyter Notebook führt Sie Schritt für Schritt durch den Prozess einer Explorativen Datenanalyse (EDA).\n",
        "Wir verwenden dabei die gängigsten Bibliotheken in Python wie Pandas, Matplotlib und Seaborn.\n",
        "Ziel ist es, ein tieferes Verständnis für den zugrunde liegenden Datensatz zu bekommen.\n"
      ]
    },
    {
      "cell_type": "markdown",
      "id": "f45f3dfc",
      "metadata": {
        "id": "f45f3dfc"
      },
      "source": [
        "## Schritt 1: Daten laden und erste Inspektion"
      ]
    },
    {
      "cell_type": "code",
      "execution_count": null,
      "id": "dc209dbf",
      "metadata": {
        "id": "dc209dbf"
      },
      "outputs": [],
      "source": [
        "\n",
        "import pandas as pd\n",
        "\n",
        "# Laden Sie Ihren Datensatz (hier ein Beispiel mit 'data.csv')\n",
        "df = pd.read_csv('data.csv')\n",
        "\n",
        "# Zeigen Sie die ersten fünf Zeilen an\n",
        "df.head()\n"
      ]
    },
    {
      "cell_type": "code",
      "execution_count": null,
      "id": "ecdb10ca",
      "metadata": {
        "id": "ecdb10ca"
      },
      "outputs": [],
      "source": [
        "\n",
        "# Überblick über die Struktur der Daten\n",
        "df.info()\n"
      ]
    },
    {
      "cell_type": "markdown",
      "id": "7a10b23f",
      "metadata": {
        "id": "7a10b23f"
      },
      "source": [
        "## Schritt 2: Datenbereinigung"
      ]
    },
    {
      "cell_type": "code",
      "execution_count": null,
      "id": "33114727",
      "metadata": {
        "id": "33114727"
      },
      "outputs": [],
      "source": [
        "\n",
        "# Überprüfen auf fehlende Werte\n",
        "df.isnull().sum()\n"
      ]
    },
    {
      "cell_type": "code",
      "execution_count": null,
      "id": "32c6e20e",
      "metadata": {
        "id": "32c6e20e"
      },
      "outputs": [],
      "source": [
        "\n",
        "# Beispiel: Entfernen von Zeilen mit fehlenden Werten (alternativ können Sie fehlende Werte füllen)\n",
        "df = df.dropna()  # Oder: df.fillna(df.mean(), inplace=True)\n",
        "\n",
        "# Überprüfen der Datentypen\n",
        "df.dtypes\n"
      ]
    },
    {
      "cell_type": "markdown",
      "id": "57942fec",
      "metadata": {
        "id": "57942fec"
      },
      "source": [
        "## Schritt 3: Deskriptive Statistiken"
      ]
    },
    {
      "cell_type": "code",
      "execution_count": null,
      "id": "037ee702",
      "metadata": {
        "id": "037ee702"
      },
      "outputs": [],
      "source": [
        "\n",
        "# Statistische Übersicht der numerischen Daten\n",
        "df.describe()\n"
      ]
    },
    {
      "cell_type": "code",
      "execution_count": null,
      "id": "dee70228",
      "metadata": {
        "id": "dee70228"
      },
      "outputs": [],
      "source": [
        "\n",
        "# Häufigkeit der Kategorien in einer kategorialen Spalte\n",
        "df['Kategorie'].value_counts()\n"
      ]
    },
    {
      "cell_type": "markdown",
      "id": "c03e81d3",
      "metadata": {
        "id": "c03e81d3"
      },
      "source": [
        "## Schritt 4: Datenvisualisierung"
      ]
    },
    {
      "cell_type": "code",
      "execution_count": null,
      "id": "aac31246",
      "metadata": {
        "id": "aac31246"
      },
      "outputs": [],
      "source": [
        "\n",
        "import matplotlib.pyplot as plt\n",
        "\n",
        "# Beispiel: Histogramm der numerischen Variablen\n",
        "df['Spalte'].hist()\n",
        "plt.show()\n"
      ]
    },
    {
      "cell_type": "code",
      "execution_count": null,
      "id": "9f694bbe",
      "metadata": {
        "id": "9f694bbe"
      },
      "outputs": [],
      "source": [
        "\n",
        "# Beispiel: Boxplot für numerische Variablen\n",
        "df.boxplot(column='Spalte')\n",
        "plt.show()\n"
      ]
    },
    {
      "cell_type": "code",
      "execution_count": null,
      "id": "5a6eb2e3",
      "metadata": {
        "id": "5a6eb2e3"
      },
      "outputs": [],
      "source": [
        "\n",
        "# Beispiel: Scatterplot zur Untersuchung von Korrelationen\n",
        "df.plot.scatter(x='Variable1', y='Variable2')\n",
        "plt.show()\n"
      ]
    },
    {
      "cell_type": "code",
      "execution_count": null,
      "id": "52934837",
      "metadata": {
        "id": "52934837"
      },
      "outputs": [],
      "source": [
        "\n",
        "import seaborn as sns\n",
        "\n",
        "# Korrelation zwischen Variablen als Heatmap darstellen\n",
        "corr = df.corr()\n",
        "sns.heatmap(corr, annot=True, cmap='coolwarm')\n",
        "plt.show()\n"
      ]
    },
    {
      "cell_type": "markdown",
      "id": "1b35135e",
      "metadata": {
        "id": "1b35135e"
      },
      "source": [
        "## Schritt 5: Ausreißer erkennen"
      ]
    },
    {
      "cell_type": "code",
      "execution_count": null,
      "id": "8d555c07",
      "metadata": {
        "id": "8d555c07"
      },
      "outputs": [],
      "source": [
        "\n",
        "# Boxplot zur Identifizierung von Ausreißern\n",
        "df.boxplot(column='Variable')\n",
        "plt.show()\n"
      ]
    },
    {
      "cell_type": "code",
      "execution_count": null,
      "id": "765bd91f",
      "metadata": {
        "id": "765bd91f"
      },
      "outputs": [],
      "source": [
        "\n",
        "# IQR-Methode zur Identifizierung von Ausreißern\n",
        "Q1 = df['Variable'].quantile(0.25)\n",
        "Q3 = df['Variable'].quantile(0.75)\n",
        "IQR = Q3 - Q1\n",
        "Ausreißer = df[(df['Variable'] < (Q1 - 1.5 * IQR)) | (df['Variable'] > (Q3 + 1.5 * IQR))]\n",
        "Ausreißer\n"
      ]
    },
    {
      "cell_type": "markdown",
      "id": "d434a132",
      "metadata": {
        "id": "d434a132"
      },
      "source": [
        "## Schritt 6: Hypothesenbildung und Interpretation"
      ]
    },
    {
      "cell_type": "markdown",
      "id": "03b522f7",
      "metadata": {
        "id": "03b522f7"
      },
      "source": [
        "\n",
        "Basierend auf den bisherigen Ergebnissen kannst du Hypothesen über potenzielle Zusammenhänge aufstellen.\n",
        "Verwende diese Informationen, um zu entscheiden, welche statistischen Modelle oder maschinelle Lernverfahren in weiteren Analysen verwendet werden sollen.\n"
      ]
    },
    {
      "cell_type": "markdown",
      "id": "b7d38b6a",
      "metadata": {
        "id": "b7d38b6a"
      },
      "source": [
        "## Schritt 7: Zusammenfassung und Dokumentation"
      ]
    },
    {
      "cell_type": "markdown",
      "id": "4eebb602",
      "metadata": {
        "id": "4eebb602"
      },
      "source": [
        "\n",
        "Fasse hier die wichtigsten Erkenntnisse zusammen. Dokumentiere die gefundenen Muster, Trends und Ausreißer.\n",
        "Diese Zusammenfassung kann als Ausgangspunkt für weiterführende Analysen oder Modellierungsversuche dienen.\n"
      ]
    }
  ],
  "metadata": {
    "colab": {
      "provenance": []
    }
  },
  "nbformat": 4,
  "nbformat_minor": 5
}