{
  "cells": [
    {
      "cell_type": "code",
      "execution_count": 2,
      "id": "398a7d90",
      "metadata": {
        "ExecuteTime": {
          "end_time": "2022-03-11T14:16:32.395592Z",
          "start_time": "2022-03-11T14:16:32.393063Z"
        },
        "id": "398a7d90"
      },
      "outputs": [],
      "source": [
        "import numpy as np\n",
        "import pandas as pd"
      ]
    },
    {
      "cell_type": "markdown",
      "id": "598557db",
      "metadata": {
        "id": "598557db"
      },
      "source": [
        "# Tasks Part 2 - Intro to Pandas"
      ]
    },
    {
      "cell_type": "markdown",
      "id": "2c4af31c",
      "metadata": {
        "id": "2c4af31c"
      },
      "source": [
        "# 1. Load data\n",
        "\n",
        "We are using house sale price dataset that can be obtained from Kaggle: https://www.kaggle.com/c/house-prices-advanced-regression-techniques/overview/description\n",
        "\n",
        "With 79 explanatory variables describing (almost) every aspect of residential homes in Ames, Iowa, the competition challenges you to predict the final price of each home."
      ]
    },
    {
      "cell_type": "markdown",
      "id": "bb34e50a",
      "metadata": {
        "id": "bb34e50a"
      },
      "source": [
        "## Tasks:\n",
        "1.1. Load `train.csv` file using `pd.read_csv()` function.\n",
        "\n",
        "1.2. Print top 10 and last 10 observations in the table using `.head()` and `.tail()`\n",
        "\n",
        "1.3. Print all the data columns names using method `.columns`\n",
        "\n",
        "1.4. Print number of rows and columns using method `.shape`. Note: You can use `.shape[0]` to get the number of rows for future tasks.\n",
        "\n",
        "1.5. You may also want to increase maximal displayed pandas columns: set `pd.options.display.max_columns` to 30. Do this at the very beginning of the notebook, so it will always apply to all tasks."
      ]
    },
    {
      "cell_type": "code",
      "execution_count": 3,
      "id": "2a049498",
      "metadata": {
        "id": "2a049498"
      },
      "outputs": [],
      "source": [
        "# Task 1.1\n",
        "df_train = pd.read_csv('https://gist.githubusercontent.com/lukee910/c233bf0ea6899a91d50ce804133b6aa1/raw/82b8c6e9aa57309aa1ce2a1302c4c3fc72e11ae3/train.csv')"
      ]
    },
    {
      "cell_type": "code",
      "execution_count": 4,
      "id": "d2b51a60",
      "metadata": {
        "id": "d2b51a60",
        "collapsed": true,
        "outputId": "02b8a6a6-3287-4d11-e436-0ae08069bf10",
        "colab": {
          "base_uri": "https://localhost:8080/"
        }
      },
      "outputs": [
        {
          "output_type": "stream",
          "name": "stdout",
          "text": [
            "   Id  MSSubClass MSZoning  LotFrontage  LotArea Street Alley LotShape  \\\n",
            "0   1          60       RL         65.0     8450   Pave   NaN      Reg   \n",
            "1   2          20       RL         80.0     9600   Pave   NaN      Reg   \n",
            "2   3          60       RL         68.0    11250   Pave   NaN      IR1   \n",
            "3   4          70       RL         60.0     9550   Pave   NaN      IR1   \n",
            "4   5          60       RL         84.0    14260   Pave   NaN      IR1   \n",
            "5   6          50       RL         85.0    14115   Pave   NaN      IR1   \n",
            "6   7          20       RL         75.0    10084   Pave   NaN      Reg   \n",
            "7   8          60       RL          NaN    10382   Pave   NaN      IR1   \n",
            "8   9          50       RM         51.0     6120   Pave   NaN      Reg   \n",
            "9  10         190       RL         50.0     7420   Pave   NaN      Reg   \n",
            "\n",
            "  LandContour Utilities  ... PoolArea PoolQC  Fence MiscFeature MiscVal  \\\n",
            "0         Lvl    AllPub  ...        0    NaN    NaN         NaN       0   \n",
            "1         Lvl    AllPub  ...        0    NaN    NaN         NaN       0   \n",
            "2         Lvl    AllPub  ...        0    NaN    NaN         NaN       0   \n",
            "3         Lvl    AllPub  ...        0    NaN    NaN         NaN       0   \n",
            "4         Lvl    AllPub  ...        0    NaN    NaN         NaN       0   \n",
            "5         Lvl    AllPub  ...        0    NaN  MnPrv        Shed     700   \n",
            "6         Lvl    AllPub  ...        0    NaN    NaN         NaN       0   \n",
            "7         Lvl    AllPub  ...        0    NaN    NaN        Shed     350   \n",
            "8         Lvl    AllPub  ...        0    NaN    NaN         NaN       0   \n",
            "9         Lvl    AllPub  ...        0    NaN    NaN         NaN       0   \n",
            "\n",
            "  MoSold YrSold  SaleType  SaleCondition  SalePrice  \n",
            "0      2   2008        WD         Normal     208500  \n",
            "1      5   2007        WD         Normal     181500  \n",
            "2      9   2008        WD         Normal     223500  \n",
            "3      2   2006        WD        Abnorml     140000  \n",
            "4     12   2008        WD         Normal     250000  \n",
            "5     10   2009        WD         Normal     143000  \n",
            "6      8   2007        WD         Normal     307000  \n",
            "7     11   2009        WD         Normal     200000  \n",
            "8      4   2008        WD        Abnorml     129900  \n",
            "9      1   2008        WD         Normal     118000  \n",
            "\n",
            "[10 rows x 81 columns]\n",
            "        Id  MSSubClass MSZoning  LotFrontage  LotArea Street Alley LotShape  \\\n",
            "1450  1451          90       RL         60.0     9000   Pave   NaN      Reg   \n",
            "1451  1452          20       RL         78.0     9262   Pave   NaN      Reg   \n",
            "1452  1453         180       RM         35.0     3675   Pave   NaN      Reg   \n",
            "1453  1454          20       RL         90.0    17217   Pave   NaN      Reg   \n",
            "1454  1455          20       FV         62.0     7500   Pave  Pave      Reg   \n",
            "1455  1456          60       RL         62.0     7917   Pave   NaN      Reg   \n",
            "1456  1457          20       RL         85.0    13175   Pave   NaN      Reg   \n",
            "1457  1458          70       RL         66.0     9042   Pave   NaN      Reg   \n",
            "1458  1459          20       RL         68.0     9717   Pave   NaN      Reg   \n",
            "1459  1460          20       RL         75.0     9937   Pave   NaN      Reg   \n",
            "\n",
            "     LandContour Utilities  ... PoolArea PoolQC  Fence MiscFeature MiscVal  \\\n",
            "1450         Lvl    AllPub  ...        0    NaN    NaN         NaN       0   \n",
            "1451         Lvl    AllPub  ...        0    NaN    NaN         NaN       0   \n",
            "1452         Lvl    AllPub  ...        0    NaN    NaN         NaN       0   \n",
            "1453         Lvl    AllPub  ...        0    NaN    NaN         NaN       0   \n",
            "1454         Lvl    AllPub  ...        0    NaN    NaN         NaN       0   \n",
            "1455         Lvl    AllPub  ...        0    NaN    NaN         NaN       0   \n",
            "1456         Lvl    AllPub  ...        0    NaN  MnPrv         NaN       0   \n",
            "1457         Lvl    AllPub  ...        0    NaN  GdPrv        Shed    2500   \n",
            "1458         Lvl    AllPub  ...        0    NaN    NaN         NaN       0   \n",
            "1459         Lvl    AllPub  ...        0    NaN    NaN         NaN       0   \n",
            "\n",
            "     MoSold YrSold  SaleType  SaleCondition  SalePrice  \n",
            "1450      9   2009        WD         Normal     136000  \n",
            "1451      5   2009       New        Partial     287090  \n",
            "1452      5   2006        WD         Normal     145000  \n",
            "1453      7   2006        WD        Abnorml      84500  \n",
            "1454     10   2009        WD         Normal     185000  \n",
            "1455      8   2007        WD         Normal     175000  \n",
            "1456      2   2010        WD         Normal     210000  \n",
            "1457      5   2010        WD         Normal     266500  \n",
            "1458      4   2010        WD         Normal     142125  \n",
            "1459      6   2008        WD         Normal     147500  \n",
            "\n",
            "[10 rows x 81 columns]\n"
          ]
        }
      ],
      "source": [
        "# Task 1.2\n",
        "print(df_train.head(10))\n",
        "print(df_train.tail(10))"
      ]
    },
    {
      "cell_type": "code",
      "execution_count": 5,
      "id": "0841e602",
      "metadata": {
        "id": "0841e602",
        "collapsed": true,
        "outputId": "3a51a982-d4c1-4cb8-bddf-f2f43cca9345",
        "colab": {
          "base_uri": "https://localhost:8080/"
        }
      },
      "outputs": [
        {
          "output_type": "stream",
          "name": "stdout",
          "text": [
            "Index(['Id', 'MSSubClass', 'MSZoning', 'LotFrontage', 'LotArea', 'Street',\n",
            "       'Alley', 'LotShape', 'LandContour', 'Utilities', 'LotConfig',\n",
            "       'LandSlope', 'Neighborhood', 'Condition1', 'Condition2', 'BldgType',\n",
            "       'HouseStyle', 'OverallQual', 'OverallCond', 'YearBuilt', 'YearRemodAdd',\n",
            "       'RoofStyle', 'RoofMatl', 'Exterior1st', 'Exterior2nd', 'MasVnrType',\n",
            "       'MasVnrArea', 'ExterQual', 'ExterCond', 'Foundation', 'BsmtQual',\n",
            "       'BsmtCond', 'BsmtExposure', 'BsmtFinType1', 'BsmtFinSF1',\n",
            "       'BsmtFinType2', 'BsmtFinSF2', 'BsmtUnfSF', 'TotalBsmtSF', 'Heating',\n",
            "       'HeatingQC', 'CentralAir', 'Electrical', '1stFlrSF', '2ndFlrSF',\n",
            "       'LowQualFinSF', 'GrLivArea', 'BsmtFullBath', 'BsmtHalfBath', 'FullBath',\n",
            "       'HalfBath', 'BedroomAbvGr', 'KitchenAbvGr', 'KitchenQual',\n",
            "       'TotRmsAbvGrd', 'Functional', 'Fireplaces', 'FireplaceQu', 'GarageType',\n",
            "       'GarageYrBlt', 'GarageFinish', 'GarageCars', 'GarageArea', 'GarageQual',\n",
            "       'GarageCond', 'PavedDrive', 'WoodDeckSF', 'OpenPorchSF',\n",
            "       'EnclosedPorch', '3SsnPorch', 'ScreenPorch', 'PoolArea', 'PoolQC',\n",
            "       'Fence', 'MiscFeature', 'MiscVal', 'MoSold', 'YrSold', 'SaleType',\n",
            "       'SaleCondition', 'SalePrice'],\n",
            "      dtype='object')\n"
          ]
        }
      ],
      "source": [
        "# Task 1.3\n",
        "print(df_train.columns)"
      ]
    },
    {
      "cell_type": "code",
      "source": [
        "# Task 1.4\n",
        "print(df_train.shape[0])\n",
        "print(df_train.shape)"
      ],
      "metadata": {
        "id": "Mybzi6EmGLlD",
        "outputId": "20c97241-8c50-4b2c-875a-210d26445df0",
        "colab": {
          "base_uri": "https://localhost:8080/"
        }
      },
      "id": "Mybzi6EmGLlD",
      "execution_count": 8,
      "outputs": [
        {
          "output_type": "stream",
          "name": "stdout",
          "text": [
            "1460\n"
          ]
        }
      ]
    },
    {
      "cell_type": "code",
      "source": [
        "# Task 1.5\n",
        "pd.options.display.max_columns = 30"
      ],
      "metadata": {
        "id": "-Vna-Oi7G74N"
      },
      "id": "-Vna-Oi7G74N",
      "execution_count": 9,
      "outputs": []
    },
    {
      "cell_type": "markdown",
      "id": "523600eb",
      "metadata": {
        "id": "523600eb"
      },
      "source": [
        "# 2. Data exploration"
      ]
    },
    {
      "cell_type": "markdown",
      "id": "1e81a17e",
      "metadata": {
        "ExecuteTime": {
          "end_time": "2022-02-15T13:49:44.832182Z",
          "start_time": "2022-02-15T13:49:44.823601Z"
        },
        "id": "1e81a17e"
      },
      "source": [
        "## Tasks:\n",
        "2.1. Use pandas `.describe()` to display basic statistic about the data.\n",
        "\n",
        "2.2. Use methods `.min()`, `.max()`, `.mean()`, `.std()` to display specific statistics about the data. Hint: Make sure that you can actually see all values (e.g. use multiple cells, use `print()`).\n",
        "\n",
        "2.3. Count number of unique values in every column `.nunique()`. What does this tells you about the features, which are most likely categorical and which are most likely numerical?\n",
        "\n",
        "2.4. Use method `.count()` to count the number of non-NA cells in each column. Are there any missing values in the data?\n",
        "Missing values can be imputed with a mean value, dummy value or based on some other logic depending on the feature using `.fillna()` method.\n",
        "\n",
        "2.5. Use method `.dtypes` field to display data types in columns. What are the columns with dtype int64?\n",
        "\n",
        "2.6. Use method `.value_counts()` to count number of unique values in a specific column."
      ]
    },
    {
      "cell_type": "code",
      "execution_count": null,
      "id": "9c4dde05",
      "metadata": {
        "id": "9c4dde05"
      },
      "outputs": [],
      "source": []
    },
    {
      "cell_type": "markdown",
      "id": "de5f53b0",
      "metadata": {
        "id": "de5f53b0"
      },
      "source": [
        "# 3. Data selection\n",
        "\n",
        "Note: `data` or `df` in the examples can be any DataFrame.\n",
        "\n",
        "Note: Watch the placement of brackets and parenthesis!\n",
        "\n",
        "In pandas.DataFrame you can select\n",
        "\n",
        "1. Row/s by position (integer number \\[0 .. number of rows - 1\\]) `.iloc` or by DataFrame.index `.loc`:\n",
        "```python\n",
        "data.iloc[0] # First row\n",
        "data.iloc[5:10] # 6th to 11th row (+1 for\n",
        "data.iloc[:9] # First 10 rows\n",
        "data.iloc[-4:] # Last 5 rows\n",
        "data.loc[7] # Row with value 7 as the index\n",
        "data.loc[\"start\":\"end\"] # All rows between the rows with \"start\" and \"end\" as the index, inclusive.\n",
        "```\n",
        "Note: In `df_train`, the index is the integer column \"Id\". An array index is a different thing.\n",
        "\n",
        "2. Columns by name\n",
        "```python\n",
        "data['columname']\n",
        "data[['columname1', 'columname2']]\n",
        "```\n",
        "3. Row/s and columns\n",
        "```python\n",
        "data.loc['index', 'columname'] # Value of 'columname' of row with index 'index'\n",
        "data.iloc[10, 6] # Value of the 7th column of the 11th row (+1 for counting from 0)\n",
        "data.iloc[:, 6] # Value of the 7th column of all rows\n",
        "```\n",
        "4. Using boolean mask\n",
        "```python\n",
        "data[data['columname'] > value]\n",
        "df[df['age'] <= 18]\n",
        "```\n",
        "\n",
        "Think of it as two steps:\n",
        "- `data['col'] > value` compares the values in the column 'col' to value\n",
        "- `data[...]` selects all the rows, where that comparison was true\n",
        "\n",
        "You can combine multiple conditions using `&` or `|` (and, or)\n",
        "\n",
        "```python\n",
        "cond1 = data['columname1'] > value1\n",
        "cond2 = data['columname2'] > value2\n",
        "data[cond1 & cond2]\n",
        "```\n",
        "5. Using queries `.query()`:\n",
        "```python\n",
        "value = 18\n",
        "data.query(\"columname > value\")\n",
        "df.query(\"age <= value\")\n",
        "```\n",
        "You could combine multiple conditions using `and`, `or`\n",
        "\n",
        "```python\n",
        "data.query(\"(columname1 > value1) and (columname2 > value2)\")\n",
        "```\n",
        "and others. See https://pandas.pydata.org/pandas-docs/stable/user_guide/indexing.html for more examples.\n"
      ]
    },
    {
      "cell_type": "markdown",
      "id": "f026f453",
      "metadata": {
        "ExecuteTime": {
          "end_time": "2022-02-15T18:43:04.505075Z",
          "start_time": "2022-02-15T18:43:04.497757Z"
        },
        "id": "f026f453"
      },
      "source": [
        "## Tasks:\n",
        "\n",
        "3.1. How many bedrooms does a house in row 7 have?\n",
        "\n",
        "3.2. How many houses has 3 kitchens?\n",
        "\n",
        "3.3. What is the percentage of houses built earlier than 1970?\n",
        "\n",
        "3.4. When was built the most expensive house?\n",
        "\n",
        "3.5. What roof style has a house built in 2005 with a central air conditioning and 11911 sqft lot size?\n",
        "\n",
        "3.6. What is the median lot size in the most popular zone? Hint: Look at `.value_counts()` and `.idxmax()`"
      ]
    },
    {
      "cell_type": "code",
      "execution_count": null,
      "id": "5bbcfbe2",
      "metadata": {
        "id": "5bbcfbe2"
      },
      "outputs": [],
      "source": []
    }
  ],
  "metadata": {
    "kernelspec": {
      "display_name": "Python 3.10.4 64-bit",
      "language": "python",
      "name": "python3"
    },
    "language_info": {
      "codemirror_mode": {
        "name": "ipython",
        "version": 3
      },
      "file_extension": ".py",
      "mimetype": "text/x-python",
      "name": "python",
      "nbconvert_exporter": "python",
      "pygments_lexer": "ipython3",
      "version": "3.10.11"
    },
    "vscode": {
      "interpreter": {
        "hash": "e1719be7d630e7e0894a4346e00239747771550a505546fd5ba4d63ceaa06c07"
      }
    },
    "colab": {
      "provenance": []
    }
  },
  "nbformat": 4,
  "nbformat_minor": 5
}